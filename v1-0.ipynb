!pip install yfinance fpdf matplotlib numpy pandas scipy
!pip install cvxpy
!pip install reportlab
%matplotlib inline

import yfinance as yf
import pandas as pd
import numpy as np
import matplotlib.pyplot as plt
from datetime import datetime, timedelta
from scipy.optimize import minimize
from fpdf import FPDF
import os

# --- CONFIGURATION ---
START_DATE = datetime.now() - timedelta(days=365*5)
END_DATE = datetime.now()
MIN_AVG_VOLUME = 1_000_000  # minimum avg daily volume filter
MIN_5Y_RETURN = 0.5         # minimum 50% total return over 5 years
RISK_FREE_RATE = 0.04       # annual risk-free rate for Sharpe ratio
MAX_STOCKS = 10             # max number of stocks in the optimized portfolio

# --- INPUT: Get S&P 500 tickers dynamically ---
def get_sp500_tickers():
    url = 'https://en.wikipedia.org/wiki/List_of_S%26P_500_companies'
    tables = pd.read_html(url)
    sp500_table = tables[0]  # the first table on the page is the S&P 500 companies table
    tickers = sp500_table['Symbol'].tolist()
    return tickers

tickers = get_sp500_tickers()  # Get the tickers of the S&P 500 companies

# --- FUNCTIONS ---
def download_price_data(tickers):
    print("Downloading price data...")
    data = yf.download(tickers, start=START_DATE.strftime('%Y-%m-%d'), end=END_DATE.strftime('%Y-%m-%d'),
                       auto_adjust=True, progress=False)
    close = data['Close']
    volume = data['Volume']
    return close, volume

def calc_5y_returns(close):
    first_prices = close.iloc[0]
    last_prices = close.iloc[-1]
    total_returns = (last_prices / first_prices) - 1
    return total_returns

def filter_stocks(close, volume):
    avg_volume = volume.mean()
    total_return = calc_5y_returns(close)
    filtered = (avg_volume > MIN_AVG_VOLUME) & (total_return > MIN_5Y_RETURN)
    filtered_tickers = filtered[filtered].index.tolist()
    print(f"Filtered {len(filtered_tickers)} tickers passing volume and return filters.")
    return filtered_tickers, avg_volume[filtered_tickers], total_return[filtered_tickers]

def download_fundamentals(tickers):
    print("Downloading fundamentals (P/E, Dividend Yield)...")
    fundamentals = {}
    for t in tickers:
        try:
            info = yf.Ticker(t).info
            fundamentals[t] = {
                'PE Ratio': info.get('trailingPE', np.nan),
                'Dividend Yield': info.get('dividendYield', 0.0) or 0.0,
                'Sector': info.get('sector', 'Unknown')
            }
        except Exception as e:
            print(f"Warning: Could not fetch fundamentals for {t}: {e}")
            fundamentals[t] = {'PE Ratio': np.nan, 'Dividend Yield': 0.0, 'Sector': 'Unknown'}
    return pd.DataFrame.from_dict(fundamentals, orient='index')

def calculate_portfolio_weights(returns):
    print("Optimizing portfolio weights...")
    mean_returns = returns.mean() * 252  # annualised
    cov_matrix = returns.cov() * 252  # annualised covariance

    num_assets = len(mean_returns)
    args = (mean_returns, cov_matrix)

    def portfolio_performance(weights, mean_returns, cov_matrix):
        ret = np.dot(weights, mean_returns)
        vol = np.sqrt(np.dot(weights.T, np.dot(cov_matrix, weights)))
        sharpe = (ret - RISK_FREE_RATE) / vol
        return ret, vol, sharpe

    def neg_sharpe(weights, mean_returns, cov_matrix):
        return -portfolio_performance(weights, mean_returns, cov_matrix)[2]

    constraints = ({'type': 'eq', 'fun': lambda x: np.sum(x) - 1})
    bounds = tuple((0, 1) for _ in range(num_assets))
    init_guess = num_assets * [1. / num_assets]

    opt = minimize(neg_sharpe, init_guess, args=args, method='SLSQP',
                   bounds=bounds, constraints=constraints)
    weights = pd.Series(opt.x, index=mean_returns.index)
    ret, vol, sharpe = portfolio_performance(weights, mean_returns, cov_matrix)
    print(f"Optimal portfolio expected annual return: {ret:.2%}")
    print(f"Optimal portfolio annual volatility: {vol:.2%}")
    print(f"Optimal portfolio Sharpe ratio: {sharpe:.2f}")
    return weights, ret, vol, sharpe

def plot_price_charts(close, portfolio_tickers):
    n = len(portfolio_tickers)
    max_per_image = 8  # Maximum number of charts per image

    # Calculate the number of images needed
    num_images = (n + max_per_image - 1) // max_per_image  # Round up the number of images

    # Create a folder to save the charts if it doesn't exist
    os.makedirs('price_charts', exist_ok=True)
    image_files = []

    for img_num in range(num_images):
        # Create a subset of the tickers for this image
        subset_tickers = portfolio_tickers[img_num * max_per_image:(img_num + 1) * max_per_image]
        
        ncols = 2
        nrows = (len(subset_tickers) + 1) // 2  # Rows needed for this image

        # Create subplots
        fig, axs = plt.subplots(nrows, ncols, figsize=(12, 4 * nrows), sharex=True)
        axs = axs.flatten()

        # Plot each ticker's price data
        for i, t in enumerate(subset_tickers):
            axs[i].plot(close[t], label=t)
            axs[i].set_title(f"{t} Price History (5 Years)")
            axs[i].set_ylabel('Price (USD)')
            axs[i].legend()

        # Remove any empty subplots (if the last row is not full)
        for j in range(i + 1, len(axs)):
            fig.delaxes(axs[j])

        # Adjust layout to avoid overlap and save the image
        plt.tight_layout()
        image_file = f'price_charts/price_charts_part_{img_num + 1}.png'
        plt.savefig(image_file)
        image_files.append(image_file)
        plt.close()

    print(f"Price charts saved as {len(image_files)} PNG files.")
    return image_files

def plot_portfolio_allocation(weights):
    plt.figure(figsize=(8,6))
    weights = weights[weights > 0.01]  # filter very small weights for clarity
    plt.pie(weights, labels=weights.index, autopct='%1.1f%%', startangle=140)
    plt.title('Portfolio Allocation')
    plt.tight_layout()
    plt.savefig('portfolio_allocation.png')
    plt.close()

def plot_efficient_frontier(returns):
    mean_returns = returns.mean() * 252  # Annualised mean returns
    cov_matrix = returns.cov() * 252  # Annualised covariance matrix

    num_portfolios = 10000  # Number of random portfolios to simulate
    results = np.zeros((3, num_portfolios))  # Array to hold results: [0] = returns, [1] = volatility, [2] = Sharpe ratio

    for i in range(num_portfolios):
        weights = np.random.random(len(mean_returns))
        weights /= np.sum(weights)  # Normalise to sum to 1

        portfolio_return = np.dot(weights, mean_returns)
        portfolio_volatility = np.sqrt(np.dot(weights.T, np.dot(cov_matrix, weights)))
        portfolio_sharpe = (portfolio_return - RISK_FREE_RATE) / portfolio_volatility

        results[0, i] = portfolio_return
        results[1, i] = portfolio_volatility
        results[2, i] = portfolio_sharpe

    max_sharpe_idx = np.argmax(results[2])  # Get the portfolio with the maximum Sharpe ratio
    max_sharpe_return = results[0, max_sharpe_idx]
    max_sharpe_volatility = results[1, max_sharpe_idx]

    plt.figure(figsize=(10,7))
    plt.scatter(results[1], results[0], c=results[2], cmap='YlGnBu', marker='o', s=10, alpha=0.3)
    plt.title('Efficient Frontier with Random Portfolios')
    plt.xlabel('Volatility (Risk)')
    plt.ylabel('Return')
    plt.colorbar(label='Sharpe Ratio')

    # Highlight the portfolio with the maximum Sharpe ratio
    plt.scatter(max_sharpe_volatility, max_sharpe_return, marker='*', color='r', s=200, label="Maximum Sharpe Ratio Portfolio")

    plt.legend(loc="upper left")
    plt.grid(True)
    plt.savefig('efficient_frontier.png')
    plt.close()
    print("Efficient frontier plot saved as efficient_frontier.png")

def create_pdf_report(weights, avg_volume, total_return, fundamentals, ret, vol, sharpe, image_files):
    print("Generating PDF report...")
    pdf = FPDF()
    pdf.set_auto_page_break(auto=True, margin=15)

    pdf.add_page()
    pdf.set_font("Arial", "B", 16)
    pdf.cell(0, 10, "Investment Portfolio Report", 0, 1, 'C')
    pdf.ln(10)

    pdf.set_font("Arial", "B", 14)
    pdf.cell(0, 10, "Executive Summary", 0, 1)
    pdf.set_font("Arial", size=12)
    pdf.multi_cell(0, 8,
                   f"This report presents an optimised portfolio based on stocks filtered by minimum average volume "
                   f"of {MIN_AVG_VOLUME:,} shares and a minimum 5-year total return of {MIN_5Y_RETURN*100:.0f}%.\n"
                   f"The optimised portfolio aims to maximise the Sharpe ratio assuming a risk-free rate of {RISK_FREE_RATE*100:.1f}%.\n\n"
                   f"Portfolio expected annual return: {ret:.2%}\n"
                   f"Portfolio annual volatility: {vol:.2%}\n"
                   f"Portfolio Sharpe ratio: {sharpe:.2f}\n\n"
                   f"The portfolio consists of {len(weights[weights > 0.01])} stocks with the following allocation:")

    pdf.ln(5)
    pdf.set_font("Arial", "B", 12)
    pdf.cell(50, 8, "Ticker", 1)
    pdf.cell(50, 8, "Allocation (%)", 1)
    pdf.cell(50, 8, "Avg Volume", 1)
    pdf.cell(50, 8, "Dividend Yield (%)", 1)  # Add dividend yield header
    pdf.ln()
    pdf.set_font("Arial", size=12)
    for t, w in weights[weights > 0.01].items():
        dividend_yield = fundamentals.loc[t, 'Dividend Yield']  # Get dividend yield
        pdf.cell(50, 8, t, 1)
        pdf.cell(50, 8, f"{w*100:.2f}", 1)
        pdf.cell(50, 8, f"{avg_volume[t]:,.0f}", 1)
        pdf.cell(50, 8, f"{dividend_yield:.2f}", 1)  # Display dividend yield
        pdf.ln()

    # Add price charts to PDF, each on a new page
    for img_file in image_files:
        pdf.add_page()
        pdf.set_font("Arial", "B", 14)
        pdf.cell(0, 10, "Price Chart", 0, 1)
        pdf.ln(5)
        pdf.image(img_file, x=10, y=20, w=190)

    # Add portfolio allocation image
    pdf.add_page()
    pdf.set_font("Arial", "B", 14)
    pdf.cell(0, 10, "Portfolio Allocation", 0, 1)
    pdf.ln(5)
    pdf.image("portfolio_allocation.png", x=10, y=20, w=190)

    # Add efficient frontier plot
    pdf.add_page()
    pdf.set_font("Arial", "B", 14)
    pdf.cell(0, 10, "Efficient Frontier", 0, 1)
    pdf.ln(5)
    pdf.image("efficient_frontier.png", x=10, y=20, w=190)

    # Output the PDF
    pdf.output("portfolio_report.pdf")
    print("PDF report generated: portfolio_report.pdf")

# --- MAIN EXECUTION ---
def main():
    close, volume = download_price_data(tickers)
    filtered_tickers, avg_vol, total_ret = filter_stocks(close, volume)

    if not filtered_tickers:
        print("No stocks passed the filters. Exiting.")
        return

    returns = close[filtered_tickers].pct_change().dropna()

    fundamentals = download_fundamentals(filtered_tickers)

    weights, exp_ret, exp_vol, sharpe = calculate_portfolio_weights(returns)

    portfolio_tickers = weights[weights > 0.01].index.tolist()

    image_files = plot_price_charts(close, portfolio_tickers)
    plot_portfolio_allocation(weights)
    plot_efficient_frontier(returns)
    create_pdf_report(weights, avg_vol, total_ret, fundamentals, exp_ret, exp_vol, sharpe, image_files)

if __name__ == "__main__":
    main()
